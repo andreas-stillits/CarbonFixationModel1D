{
 "cells": [
  {
   "cell_type": "markdown",
   "id": "936a8113",
   "metadata": {},
   "source": [
    "#### Notebook to read dataset provided by Momayyezi et al. 2022 and estimate $(\\tau,\\gamma)$\n",
    "\n",
    "running the notebook in order will produce a modified data file in the folder \"saved_data\" if it doesn't already exist."
   ]
  },
  {
   "cell_type": "code",
   "execution_count": 1,
   "id": "c5015c34",
   "metadata": {},
   "outputs": [
    {
     "data": {
      "text/html": [
       "<div>\n",
       "<style scoped>\n",
       "    .dataframe tbody tr th:only-of-type {\n",
       "        vertical-align: middle;\n",
       "    }\n",
       "\n",
       "    .dataframe tbody tr th {\n",
       "        vertical-align: top;\n",
       "    }\n",
       "\n",
       "    .dataframe thead th {\n",
       "        text-align: right;\n",
       "    }\n",
       "</style>\n",
       "<table border=\"1\" class=\"dataframe\">\n",
       "  <thead>\n",
       "    <tr style=\"text-align: right;\">\n",
       "      <th></th>\n",
       "      <th>Assession</th>\n",
       "      <th>assimilation_rate</th>\n",
       "      <th>d_assimilation_rate</th>\n",
       "      <th>stomatal_conductance</th>\n",
       "      <th>d_stomatal_conductance</th>\n",
       "      <th>ias_conductance</th>\n",
       "      <th>d_ias_conductance</th>\n",
       "      <th>atmospheric_CO2</th>\n",
       "      <th>compensation_point</th>\n",
       "      <th>d_compensation_point</th>\n",
       "    </tr>\n",
       "  </thead>\n",
       "  <tbody>\n",
       "    <tr>\n",
       "      <th>0</th>\n",
       "      <td>A1</td>\n",
       "      <td>9.49</td>\n",
       "      <td>0.69</td>\n",
       "      <td>0.11</td>\n",
       "      <td>0.01</td>\n",
       "      <td>1.28</td>\n",
       "      <td>0.23</td>\n",
       "      <td>409.353</td>\n",
       "      <td>38.18</td>\n",
       "      <td>0.47</td>\n",
       "    </tr>\n",
       "    <tr>\n",
       "      <th>1</th>\n",
       "      <td>A2</td>\n",
       "      <td>7.96</td>\n",
       "      <td>1.02</td>\n",
       "      <td>0.04</td>\n",
       "      <td>0.02</td>\n",
       "      <td>1.32</td>\n",
       "      <td>0.26</td>\n",
       "      <td>409.353</td>\n",
       "      <td>38.18</td>\n",
       "      <td>0.47</td>\n",
       "    </tr>\n",
       "    <tr>\n",
       "      <th>2</th>\n",
       "      <td>A3</td>\n",
       "      <td>7.92</td>\n",
       "      <td>1.16</td>\n",
       "      <td>0.06</td>\n",
       "      <td>0.03</td>\n",
       "      <td>1.21</td>\n",
       "      <td>0.12</td>\n",
       "      <td>409.353</td>\n",
       "      <td>38.18</td>\n",
       "      <td>0.47</td>\n",
       "    </tr>\n",
       "  </tbody>\n",
       "</table>\n",
       "</div>"
      ],
      "text/plain": [
       "  Assession  assimilation_rate  d_assimilation_rate  stomatal_conductance  \\\n",
       "0        A1               9.49                 0.69                  0.11   \n",
       "1        A2               7.96                 1.02                  0.04   \n",
       "2        A3               7.92                 1.16                  0.06   \n",
       "\n",
       "   d_stomatal_conductance  ias_conductance  d_ias_conductance  \\\n",
       "0                    0.01             1.28               0.23   \n",
       "1                    0.02             1.32               0.26   \n",
       "2                    0.03             1.21               0.12   \n",
       "\n",
       "   atmospheric_CO2  compensation_point  d_compensation_point  \n",
       "0          409.353               38.18                  0.47  \n",
       "1          409.353               38.18                  0.47  \n",
       "2          409.353               38.18                  0.47  "
      ]
     },
     "execution_count": 1,
     "metadata": {},
     "output_type": "execute_result"
    }
   ],
   "source": [
    "import numpy as np\n",
    "import pandas as pd \n",
    "import sys\n",
    "sys.path.append('../../modules/')\n",
    "import estimator as est\n",
    "\n",
    "df_dehydrated = pd.read_csv('../raw_data/dehydrated_dataset_Momayyezi_et_al_2022.csv', decimal=',', sep=';')\n",
    "df_watered = pd.read_csv('../raw_data/watered_dataset_Momayyezi_et_al_2022.csv', decimal=',', sep=';')\n",
    "\n",
    "# Data provided by Momayyezi et al. 2022\n",
    "# DOI: https://doi.org/10.1111/pce.14287 \n",
    "\n",
    "df_dehydrated.head(3)\n"
   ]
  },
  {
   "cell_type": "code",
   "execution_count": null,
   "id": "fa45444c",
   "metadata": {},
   "outputs": [
    {
     "name": "stderr",
     "output_type": "stream",
     "text": [
      "100%|██████████| 11/11 [00:00<00:00, 11.16it/s]\n",
      "100%|██████████| 11/11 [00:01<00:00, 10.62it/s]\n"
     ]
    }
   ],
   "source": [
    "for df in [df_dehydrated, df_watered]:\n",
    "    # since dataset doesn't include substomatal conc. Ci explicitly, we calculate it as Ci = Ca - An/gs\n",
    "    df = est.estimate_Ci_values(df, plot_sample=False)\n",
    "    # since dataset doesn't include gm* we calculate it as gm* = An/(Ci - C*)\n",
    "    df = est.estimate_gm_star_values(df, plot_sample=False)\n",
    "    # calculate (tau, gamma)\n",
    "    df, (taus, dtaus), (gammas, dgammas) = est.estimate_principle_parameters(df, plot_sample=False)\n",
    "\n",
    "df_dehydrated.to_csv('../saved_data/Momayyezi2022_dehydrated.csv', decimal=',', sep=';')\n",
    "df_watered.to_csv('../saved_data/Momayyezi2022_watered.csv', decimal=',', sep=';')"
   ]
  }
 ],
 "metadata": {
  "kernelspec": {
   "display_name": "safespace",
   "language": "python",
   "name": "python3"
  },
  "language_info": {
   "codemirror_mode": {
    "name": "ipython",
    "version": 3
   },
   "file_extension": ".py",
   "mimetype": "text/x-python",
   "name": "python",
   "nbconvert_exporter": "python",
   "pygments_lexer": "ipython3",
   "version": "3.13.1"
  }
 },
 "nbformat": 4,
 "nbformat_minor": 5
}
