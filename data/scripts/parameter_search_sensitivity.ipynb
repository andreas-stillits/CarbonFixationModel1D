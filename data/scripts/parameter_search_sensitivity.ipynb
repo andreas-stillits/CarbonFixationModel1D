{
 "cells": [
  {
   "cell_type": "code",
   "execution_count": 2,
   "id": "920c6a31",
   "metadata": {},
   "outputs": [],
   "source": [
    "import numpy as np \n",
    "from tqdm import tqdm # implementation of progress bars in jupyter notebooks\n",
    "import sys \n",
    "sys.path.append('../../modules/')\n",
    "import leaf_model as lm \n"
   ]
  },
  {
   "cell_type": "code",
   "execution_count": null,
   "id": "2b883476",
   "metadata": {},
   "outputs": [],
   "source": [
    "def sensitivity_search(delta_min=0.2, kappa_min=0.2, lambda_min=0.2, chi_=0.10, N=400, n=5):\n",
    "    # set up mesh of parameters (tau, gamma), rho_deltas=D_PM/D_SM, rho_kappas=K_SM/K_PM, rho_lambdas=L_PM/L\n",
    "    taus   = np.exp(np.linspace(np.log(0.01), np.log(100), N))\n",
    "    gammas = np.exp(np.linspace(np.log(0.01), np.log(100), N))\n",
    "    rho_deltas  = np.linspace(delta_min, 1, n)\n",
    "    rho_kappas  = np.linspace(kappa_min, 1, n)\n",
    "    rho_lambdas = np.linspace(lambda_min, 1-lambda_min, n)\n",
    "    # initialize leaf model object \n",
    "    leaf = lm.Leaf(1, 1, chi_, rho=(1,1,0.5), resolution=100)\n",
    "    sensitivities  = np.zeros((N,N)) # container for sensitivities \\eta\n",
    "    # loop over taus and gammas\n",
    "    for i in tqdm(range(N)):\n",
    "        for j in range(N):\n",
    "            # update leaf model parameters\n",
    "            leaf.tau   = taus[i]\n",
    "            leaf.gamma = gammas[j]\n",
    "            leaf.rho = (1,1,0.5) # homogeneous mesophyll parameters (no spongy/palisade mesophyll contrast)\n",
    "            # calculate homogeneous mesophyll solution\n",
    "            domain, mf_solution = leaf.calculate_steady_state_solution()\n",
    "            #\n",
    "            samples = n**3\n",
    "            drawdown = np.zeros(samples) # containers for relative drawdown (Ca - Ci)/Ca values between homogeneous and heterogeneous mesophyll solutions\n",
    "            index = 0\n",
    "            # loop over rho_deltas, rho_kappas, rho_lambdas\n",
    "            for k in range(n):\n",
    "                for l in range(n):\n",
    "                    for m in range(n):\n",
    "                        rho = (rho_deltas[k], rho_kappas[l], rho_lambdas[m])\n",
    "                        leaf.rho = rho\n",
    "                        domain, solution = leaf.calculate_steady_state_solution()\n",
    "                        drawdown[index] = (mf_solution[0] - solution[0]) / (1 - mf_solution[0]) # calculate relative drawdown\n",
    "                        index += 1\n",
    "            sensitivities[i,j] = np.sqrt(np.sum(drawdown**2)/samples)\n",
    "    return taus, gammas, sensitivities.T # taus on x-axis (2nd index) and gammas on y-axis (1st index)\n",
    "\n",
    "\n",
    "taus, gammas, sensitivities = sensitivity_search()\n",
    "np.savetxt('../saved_data/sensitivities.txt', sensitivities, delimiter=';', header='delta_min=0.2, kappa_min=0.2, lambda_min=0.2, zeta_compensation=0.15, N=400, n=5')\n",
    "\n"
   ]
  }
 ],
 "metadata": {
  "kernelspec": {
   "display_name": "safespace",
   "language": "python",
   "name": "python3"
  },
  "language_info": {
   "codemirror_mode": {
    "name": "ipython",
    "version": 3
   },
   "file_extension": ".py",
   "mimetype": "text/x-python",
   "name": "python",
   "nbconvert_exporter": "python",
   "pygments_lexer": "ipython3",
   "version": "3.13.1"
  }
 },
 "nbformat": 4,
 "nbformat_minor": 5
}
