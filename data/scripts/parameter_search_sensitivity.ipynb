{
 "cells": [
  {
   "cell_type": "markdown",
   "id": "d91f3fff",
   "metadata": {},
   "source": [
    "### Notebook for estimating the impact of modeling the leaf as homogeneous vs heterogeneous over a range of parameters\n",
    "\n",
    "The data stored in data/saved_data/sensitivies.txt reflects the heatmap of sensitivity $\\eta(\\tau,\\gamma)$ as displayed in figure 3C."
   ]
  },
  {
   "cell_type": "code",
   "execution_count": null,
   "id": "920c6a31",
   "metadata": {},
   "outputs": [],
   "source": [
    "import numpy as np \n",
    "from tqdm import tqdm # implementation of progress bars in jupyter notebooks\n",
    "import sys \n",
    "sys.path.append('../../modules/')\n",
    "import leaf_model as lm"
   ]
  },
  {
   "cell_type": "code",
   "execution_count": null,
   "id": "2b883476",
   "metadata": {},
   "outputs": [],
   "source": [
    "def sensitivity_search(delta_min=0.2, kappa_min=0.2, lambda_min=0.2, chi_=0.10, N=400, n=5):\n",
    "    ''' \n",
    "    Function to perform a parameter search for the sensitivity \\eta over parameters \\tau, \\gamma and structural parameters encoding the contrast between spongy and palisade mesophyll.\n",
    "    delta_min: minimum value for spongy/palisade mesophyll contrast in effective IAS diffusivity rho_delta (D_PM/D_SM) [float in (0,1]]\n",
    "    kappa_min: minimum value for spongy/palisade mesophyll contrast in absorption rate rho_kappa (K_SM/K_PM) [float in (0,1]]\n",
    "    lambda_min: minimum value for fractional volume occupied by palisade mesophyll rho_lambda (L_PM/L) [float in (0,1)]\n",
    "    chi_: relative CO2 compensation point C*/Ca [float]\n",
    "    N: number of points in taus and gammas (N x N grid) [int]\n",
    "    n: number of points in rho_deltas, rho_kappas, rho_lambdas (n x n x n grid) [int]\n",
    "    Returns:\n",
    "        taus: array of tau values (x-axis)\n",
    "        gammas: array of gamma values (y-axis)\n",
    "        sensitivities: 2D array of sensitivities \\eta with shape (N, N) where sensitivities[i,j] corresponds to sensitivity for taus[i] and gammas[j]\n",
    "    '''\n",
    "    # set up mesh of parameters (tau, gamma), rho_deltas=D_PM/D_SM, rho_kappas=K_SM/K_PM, rho_lambdas=L_PM/L\n",
    "    taus   = np.exp(np.linspace(np.log(0.01), np.log(100), N))\n",
    "    gammas = np.exp(np.linspace(np.log(0.01), np.log(100), N))\n",
    "    rho_deltas  = np.linspace(delta_min, 1, n) # from maximal to no contrast\n",
    "    rho_kappas  = np.linspace(kappa_min, 1, n) # from maximal to no contrast\n",
    "    rho_lambdas = np.linspace(lambda_min, 1-lambda_min, n) # symmetric around 0.5\n",
    "    # initialize leaf model object \n",
    "    leaf = lm.Leaf(1, 1, chi_, rho=(1,1,0.5))\n",
    "    sensitivities  = np.zeros((N,N)) # container for sensitivities \\eta\n",
    "    # loop over taus and gammas\n",
    "    for i in tqdm(range(N)):\n",
    "        for j in range(N):\n",
    "            # update leaf model parameters\n",
    "            leaf.tau   = taus[i]\n",
    "            leaf.gamma = gammas[j]\n",
    "            leaf.rho = (1,1,0.5) # homogeneous mesophyll parameters (no spongy/palisade mesophyll contrast)\n",
    "            # calculate homogeneous mesophyll solution\n",
    "            domain, mf_solution = leaf.calculate_steady_state_solution()\n",
    "            #\n",
    "            samples = n**3\n",
    "            drawdown = np.zeros(samples) # containers for relative drawdown (Ca - Ci)/Ca = 1 - \\chi_i values between homogeneous and heterogeneous mesophyll solutions\n",
    "            # relative differences in relative drawdowns will reflect relative differences in assimilation rates because gs (and gamma) is constant between homogeneous and heterogeneous model\n",
    "            index = 0\n",
    "            # loop over rho_deltas, rho_kappas, rho_lambdas\n",
    "            for k in range(n):\n",
    "                for l in range(n):\n",
    "                    for m in range(n):\n",
    "                        rho = (rho_deltas[k], rho_kappas[l], rho_lambdas[m])\n",
    "                        leaf.rho = rho\n",
    "                        domain, solution = leaf.calculate_steady_state_solution() # calculate steady state solution for heterogeneous mesophyll model\n",
    "                        drawdown[index] = (mf_solution[0] - solution[0]) / (1 - mf_solution[0]) # calculate relative difference in relative drawdown\n",
    "                        index += 1\n",
    "            sensitivities[i,j] = np.sqrt(np.sum(drawdown**2)/samples)\n",
    "    return taus, gammas, sensitivities.T #\n",
    "\n",
    "\n",
    "taus, gammas, sensitivities = sensitivity_search()\n",
    "np.savetxt('../saved_data/sensitivities.txt', sensitivities, delimiter=';', header='delta_min=0.2, kappa_min=0.2, lambda_min=0.2, chi_=0.10, N=400, n=5')\n",
    "\n"
   ]
  }
 ],
 "metadata": {
  "kernelspec": {
   "display_name": "safespace",
   "language": "python",
   "name": "python3"
  },
  "language_info": {
   "codemirror_mode": {
    "name": "ipython",
    "version": 3
   },
   "file_extension": ".py",
   "mimetype": "text/x-python",
   "name": "python",
   "nbconvert_exporter": "python",
   "pygments_lexer": "ipython3",
   "version": "3.13.1"
  }
 },
 "nbformat": 4,
 "nbformat_minor": 5
}
