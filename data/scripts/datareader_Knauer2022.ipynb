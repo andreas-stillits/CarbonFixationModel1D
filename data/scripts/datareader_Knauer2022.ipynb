{
 "cells": [
  {
   "cell_type": "markdown",
   "id": "5826df27",
   "metadata": {},
   "source": [
    "#### Notebook to read dataset provided by Knauer et al. 2022 and estimate $(\\tau,\\gamma)$\n",
    "\n",
    "running the notebook in order will produce a modified data file in the folder \"saved_data\" if it doesn't already exist."
   ]
  },
  {
   "cell_type": "code",
   "execution_count": 1,
   "id": "44ef1e25",
   "metadata": {},
   "outputs": [
    {
     "name": "stdout",
     "output_type": "stream",
     "text": [
      "Number of data points: 1883\n",
      "Number of unique species: 617\n",
      "Number of unique plant functional types: 13\n"
     ]
    }
   ],
   "source": [
    "import numpy as np \n",
    "import pandas as pd \n",
    "import sys\n",
    "sys.path.append('../../modules/')\n",
    "import estimator as est # module for estimating parameters (Ci, gm*, \\tau, \\gamma)\n",
    "\n",
    "df_raw = pd.read_csv('../raw_data/gm_dataset_Knauer_et_al_2022.csv', decimal=',', sep=';')\n",
    "\n",
    "# Data is a meta-dataset assembled by Knauer et al. (2022)\n",
    "# DOI: https://doi.org/10.1111/nph.18363\n",
    "\n",
    "# UNITS:\n",
    "# Assimilation rate:    µmol/m^2/s\n",
    "# Stomatal conductance: mol/m^2/s\n",
    "# Porosity:             --\n",
    "# Mesophyll thickness:  µm\n",
    "# Atmospheric CO2:      µmol/mol\n",
    "# Compensation point:   µmol/mol\n",
    "\n",
    "# print number of unique species and plant functional types\n",
    "print('Number of data points:', len(df_raw))\n",
    "print('Number of unique species:', df_raw['species'].nunique())\n",
    "print('Number of unique plant functional types:', df_raw['plant_functional_type'].nunique())"
   ]
  },
  {
   "cell_type": "code",
   "execution_count": 2,
   "id": "3084922f",
   "metadata": {},
   "outputs": [
    {
     "name": "stdout",
     "output_type": "stream",
     "text": [
      "Requrering porosity and mesophyll or leaf thickness: \n",
      "Number of data points: 218\n",
      "Number of unique species: 113\n",
      "Number of unique plant functional types: 9\n",
      "____________________________________________________\n",
      "Post processing to find (gs, An, Ci, C*): \n",
      "Number of data points: 174\n",
      "Number of unique species: 88\n",
      "Number of unique plant functional types: 8\n"
     ]
    }
   ],
   "source": [
    "# We require porosity and some measure of mesophyll thickness to be available\n",
    "df = df_raw.dropna(subset=['fias_mesophyll'])\n",
    "df = df.dropna(subset=['T_leaf', 'T_mesophyll'], how='all') # drop all where both are not available\n",
    "print('Requrering porosity and mesophyll or leaf thickness: ')\n",
    "print('Number of data points:', len(df))\n",
    "print('Number of unique species:', df['species'].nunique())\n",
    "print('Number of unique plant functional types:', df['plant_functional_type'].nunique())\n",
    "\n",
    "#_____________________________________________________________________________________________________________________________________________________\n",
    "# We add a colum for inference of mesophyll thickness\n",
    "# We calculate the mean fraction T_mesophyll / T_leaf when both are available. \n",
    "# This yields ratio = 0.83 +- 0.11 with a pronounced peak\n",
    "ratios = df['T_mesophyll'].to_numpy() / df['T_leaf'].to_numpy()\n",
    "ratios = ratios[~np.isnan(ratios)] # remove those where either T_mesophyll or T_leaf was not available\n",
    "# compute statistics\n",
    "mean_ratio = np.mean(ratios)\n",
    "std_ratio = np.std(ratios, ddof=1)\n",
    "# print(f'Mean ratio T_mesophyll / T_leaf: {mean_ratio:.3f} ± {std_ratio:.3f}')\n",
    "\n",
    "# If T_mesophyll is not directly available, we use the mean ratio to infer it from T_leaf\n",
    "df.loc[:, 'mesophyll_thickness'] = np.nan\n",
    "for i in df.index.tolist():\n",
    "    if np.isnan(df.loc[i, 'T_mesophyll']):\n",
    "        df.loc[i, 'mesophyll_thickness'] = mean_ratio * df.loc[i, 'T_leaf']\n",
    "    else:\n",
    "        df.loc[i, 'mesophyll_thickness'] = df.loc[i, 'T_mesophyll']\n",
    "\n",
    "#_____________________________________________________________________________________________________________________________________________________\n",
    "# We need values for gs_CO2, An, and Ci. We require An to be available and infer the others if missing\n",
    "df = df.dropna(subset=['An'])\n",
    "df = df.dropna(subset=['gs_CO2', 'Ca_gas_exchange', 'Ci'], how='all') # drop all where all three are not available\n",
    "\n",
    "# empty columns for filling in\n",
    "df.loc[:, 'stomatal_conductance'] = np.nan\n",
    "df.loc[:, 'substomatal_conc'] = np.nan\n",
    "\n",
    "# If gs_CO2 is not available, we infer it from An, Ca and Ci according to its definition: gs = An / (Ca - Ci)\n",
    "for i in df.index.tolist():\n",
    "    if np.isnan(df.loc[i, 'gs_CO2']):\n",
    "        if not np.isnan(df.loc[i, 'An']) and not np.isnan(df.loc[i, 'Ca_gas_exchange']) and not np.isnan(df.loc[i, 'Ci']):\n",
    "            df.loc[i, 'stomatal_conductance'] = df.loc[i, 'An'] / (df.loc[i, 'Ca_gas_exchange'] - df.loc[i, 'Ci'])\n",
    "    else:\n",
    "        df.loc[i, 'stomatal_conductance'] = df.loc[i, 'gs_CO2']\n",
    "# drop all where stomatal conductance gs could not be inferred\n",
    "df = df.dropna(subset=['stomatal_conductance'])\n",
    "\n",
    "#_____________________________________________________________________________________________________________________________________________________\n",
    "# If Ci is not available, we infer it from An, gs_CO2 and Ca\n",
    "for i in df.index.tolist():\n",
    "    if np.isnan(df.loc[i, 'Ci']):\n",
    "        if not np.isnan(df.loc[i, 'An']) and not np.isnan(df.loc[i, 'stomatal_conductance']) and not np.isnan(df.loc[i, 'Ca_gas_exchange']):\n",
    "            df.loc[i, 'substomatal_conc'] = df.loc[i, 'Ca_gas_exchange'] - df.loc[i, 'An'] / df.loc[i, 'stomatal_conductance']\n",
    "    else:\n",
    "        df.loc[i, 'substomatal_conc'] = df.loc[i, 'Ci']\n",
    "# drop all where substomatal CO2 concentration Ci could not be inferred\n",
    "df = df.dropna(subset=['substomatal_conc'])\n",
    "\n",
    "#_____________________________________________________________________________________________________________________________________________________\n",
    "# Lastly we need the CO2 compensation point C*. It is rarely quoted in the dataset, but very constant across samples: 39.9 ± 6.9 µmol/mol (n=50, species=27).\n",
    "# We therefore substitute the mean value\n",
    "mean_compensation = df_raw['Cistar'].mean()\n",
    "std_compensation = df_raw['Cistar'].std(ddof=1)\n",
    "df.loc[:, 'compensation_point'] = mean_compensation\n",
    "# print(f'CO2 compensation point: {mean_compensation:.3f} ± {std_compensation:.3f}')\n",
    "\n",
    "print(\"____________________________________________________\")\n",
    "print('Post processing to find (gs, An, Ci, C*): ')\n",
    "print('Number of data points:', len(df))\n",
    "print('Number of unique species:', df['species'].nunique())\n",
    "print('Number of unique plant functional types:', df['plant_functional_type'].nunique())\n",
    "\n",
    "# Finally, we save the processed data to a new CSV file\n",
    "df.to_csv('../saved_data/Knauer2022_filtered.csv', index=False, decimal=',', sep=';')\n"
   ]
  },
  {
   "cell_type": "code",
   "execution_count": 3,
   "id": "56ea5f6e",
   "metadata": {},
   "outputs": [
    {
     "name": "stderr",
     "output_type": "stream",
     "text": [
      " 89%|████████▉ | 155/174 [05:38<00:29,  1.55s/it]"
     ]
    },
    {
     "data": {
      "image/png": "[encoded data removed]",
      "text/plain": [
       "<Figure size 1500x500 with 2 Axes>"
      ]
     },
     "metadata": {},
     "output_type": "display_data"
    },
    {
     "name": "stderr",
     "output_type": "stream",
     "text": [
      "100%|██████████| 174/174 [06:15<00:00,  2.16s/it]\n"
     ]
    }
   ],
   "source": [
    "def estimate_conductances(df, rel_error=0.1):\n",
    "    \"\"\" \n",
    "    Function to calculate modified mesophyll conductance (gm*) and intercellular airspace conductance (g_ias)\n",
    "    df: data frame with columns 'fias_mesophyll', 'mesophyll_thickness', 'An', 'substomatal_conc', 'compensation_point'\n",
    "    rel_error: option to add a relative error for later simulated error propagation (default is 10%). No errors are provided in the dataset by Knauer et al. 2022\n",
    "    \"\"\"\n",
    "    # we calculate conductances g_ias (Niinemets & Reichstein, 2003) and gm* = An / (Ci - C*)\n",
    "    diffusivity_in_air = 1.51e-5 # m2/s     CO2 diffusion constant in air at 25 *C (https://pmc.ncbi.nlm.nih.gov/articles/PMC4885940/)\n",
    "    tortuosity = 1.57 # adopted from Tosens et al. 2012, Syvertsen et al. 1995. Bounded below by 1.0 and often in the range 1.4-1.6 (Borsuk et al. 2022)\n",
    "    g_ias = (diffusivity_in_air * df[\"fias_mesophyll\"]) / (1e-6 * df[\"mesophyll_thickness\"] * 0.5 * tortuosity) # m/s\n",
    "    # where we have translated cm2/s to m2/s and um to m\n",
    "    df.loc[:, 'ias_conductance'] = g_ias / 0.02241  # convert from m/s to mol/m2/s to match An in units of umol/m2/s. The fraction reflects the molar conc. of air\n",
    "\n",
    "    gm_star = df['An'] / (df['substomatal_conc'] - df['compensation_point'])  # mol/m2/s\n",
    "    df.loc[:, 'mesophyll_conductance*'] = gm_star\n",
    "\n",
    "    # Add relative errors to the conductances for simulated error probagation. Mean estimates are not affected\n",
    "    df.loc[:, 'd_mesophyll_conductance*'] = rel_error * df['mesophyll_conductance*'] # 10% error\n",
    "    df.loc[:, 'd_stomatal_conductance'] = rel_error * df['stomatal_conductance'] # 10% error\n",
    "    df.loc[:, 'd_ias_conductance'] = rel_error * df['ias_conductance'] # 10% error\n",
    "    return df\n",
    "\n",
    "\n",
    "# Treat all as hypostomatous\n",
    "df_hypo = pd.read_csv('../saved_data/Knauer2022_filtered.csv', decimal=',', sep=';')\n",
    "df_hypo = estimate_conductances(df_hypo, rel_error=0.1)\n",
    "df_hypo, (taus_hypo, dtaus_hypo), (gammas_hypo, dgammas_hypo) = est.estimate_principle_parameters(df_hypo, plot_sample=False)\n",
    "df_hypo.to_csv('../saved_data/Knauer2022_hypostomatous.csv', index=False, decimal=',', sep=';')\n"
   ]
  }
 ],
 "metadata": {
  "kernelspec": {
   "display_name": "safespace",
   "language": "python",
   "name": "python3"
  },
  "language_info": {
   "codemirror_mode": {
    "name": "ipython",
    "version": 3
   },
   "file_extension": ".py",
   "mimetype": "text/x-python",
   "name": "python",
   "nbconvert_exporter": "python",
   "pygments_lexer": "ipython3",
   "version": "3.13.1"
  }
 },
 "nbformat": 4,
 "nbformat_minor": 5
}
